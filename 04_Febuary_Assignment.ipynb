{
 "cells": [
  {
   "cell_type": "markdown",
   "id": "081ef641-1f35-42e8-9154-52e3309542d3",
   "metadata": {},
   "source": [
    "Q1. Create a python program to sort the given list of tuples based on integer value using a lambda function."
   ]
  },
  {
   "cell_type": "markdown",
   "id": "d529f7f3-e102-46b0-a7be-989b063c449f",
   "metadata": {},
   "source": [
    "   [('Sachin Tendulkar', 34357), ('Ricky Ponting', 27483), ('Jack Kallis', 25534), ('Virat Kohli', 24936)]"
   ]
  },
  {
   "cell_type": "markdown",
   "id": "a98d82c1-5721-431e-b686-330b2ad6529c",
   "metadata": {},
   "source": [
    "Sort the List of Tuples Based on Integer Value Using a Lambda Function"
   ]
  },
  {
   "cell_type": "code",
   "execution_count": 6,
   "id": "7776a5c6-7f38-4e28-ae92-8b4a1819e888",
   "metadata": {},
   "outputs": [
    {
     "name": "stdout",
     "output_type": "stream",
     "text": [
      "[('Virat Kohli', 24936), ('Jack Kallis', 25534), ('Ricky Ponting', 27483), ('Sachin Tendulkar', 34357)]\n"
     ]
    }
   ],
   "source": [
    "# List of tuples\n",
    "players = [('Sachin Tendulkar', 34357), ('Ricky Ponting', 27483), ('Jack Kallis', 25534), ('Virat Kohli', 24936)]\n",
    "\n",
    "# Sort using a lambda function\n",
    "sorted_players = sorted(players, key=lambda x: x[1], reverse=False)\n",
    "\n",
    "# Display the sorted list\n",
    "print(sorted_players)\n"
   ]
  },
  {
   "cell_type": "code",
   "execution_count": null,
   "id": "6f4ab347-de21-440f-b224-844a422438dc",
   "metadata": {},
   "outputs": [],
   "source": []
  },
  {
   "cell_type": "markdown",
   "id": "fcaecc1d-7700-4d79-9dd6-5025d5cedfec",
   "metadata": {},
   "source": [
    "Q2. Write a Python Program to find the squares of all the numbers in the given list of integers using lambda and map functions.\n"
   ]
  },
  {
   "cell_type": "markdown",
   "id": "ffc64ae3-845b-4533-b510-a8545511bf95",
   "metadata": {},
   "source": [
    "[1, 2, 3, 4, 5, 6, 7, 8, 9, 10]"
   ]
  },
  {
   "cell_type": "markdown",
   "id": "6dda7411-775a-4fdb-83f5-17701c075975",
   "metadata": {},
   "source": [
    "Find Squares of All Numbers Using lambda and map"
   ]
  },
  {
   "cell_type": "code",
   "execution_count": 13,
   "id": "f7c573ab-524c-47ba-a92d-86ca80e1213a",
   "metadata": {},
   "outputs": [
    {
     "name": "stdout",
     "output_type": "stream",
     "text": [
      "[1, 4, 9, 16, 25, 36, 49, 64, 81, 100]\n"
     ]
    }
   ],
   "source": [
    "# List of integers\n",
    "numbers = [1, 2, 3, 4, 5, 6, 7, 8, 9, 10]\n",
    "\n",
    "# Find squares using lambda and map\n",
    "squares = list(map(lambda x: x**2, numbers))\n",
    "\n",
    "# Display the result\n",
    "print(squares)\n"
   ]
  },
  {
   "cell_type": "code",
   "execution_count": null,
   "id": "f931bb76-7a8d-43a9-8647-74c7d127e050",
   "metadata": {},
   "outputs": [],
   "source": []
  },
  {
   "cell_type": "markdown",
   "id": "013126d2-7bab-493c-8e2b-4134f436bd61",
   "metadata": {},
   "source": [
    "Q3. Write a python program to convert the given list of integers into a tuple of strings. Use map and lambda functions"
   ]
  },
  {
   "cell_type": "markdown",
   "id": "43219d37-522e-4002-ab3b-17c6572ab65c",
   "metadata": {},
   "source": [
    "Given String: [1, 2, 3, 4, 5, 6, 7, 8, 9, 10]"
   ]
  },
  {
   "cell_type": "markdown",
   "id": "fe25097e-736a-4406-9bb7-272ae517e432",
   "metadata": {},
   "source": [
    "Expected output: ('1', '2', '3', '4', '5', '6', '7', '8', '9', '10')"
   ]
  },
  {
   "cell_type": "code",
   "execution_count": 20,
   "id": "6914aa6d-e4ae-454e-9910-a255fd7c4f96",
   "metadata": {},
   "outputs": [
    {
     "name": "stdout",
     "output_type": "stream",
     "text": [
      "('1', '2', '3', '4', '5', '6', '7', '8', '9', '10')\n"
     ]
    }
   ],
   "source": [
    "# List of integers\n",
    "numbers = [1, 2, 3, 4, 5, 6, 7, 8, 9, 10]\n",
    "\n",
    "# Convert to tuple of strings\n",
    "string_tuple = tuple(map(lambda x: str(x), numbers))\n",
    "\n",
    "# Display the result\n",
    "print(string_tuple)\n"
   ]
  },
  {
   "cell_type": "code",
   "execution_count": null,
   "id": "ab53a7b2-c3fb-4ee2-a05c-5831ec91a11b",
   "metadata": {},
   "outputs": [],
   "source": []
  },
  {
   "cell_type": "markdown",
   "id": "1e36db6d-a173-40b5-835f-983b22cef587",
   "metadata": {},
   "source": [
    "Q4. Write a python program using reduce function to compute the product of a list containing numbers from 1 to 25."
   ]
  },
  {
   "cell_type": "markdown",
   "id": "1637380b-986f-4ec2-b816-638bbc6e3790",
   "metadata": {},
   "source": [
    "Compute the Product of Numbers from 1 to 25 Using reduce"
   ]
  },
  {
   "cell_type": "code",
   "execution_count": 25,
   "id": "b9003fe3-c01e-4c57-9322-85621b8fce6a",
   "metadata": {},
   "outputs": [
    {
     "name": "stdout",
     "output_type": "stream",
     "text": [
      "15511210043330985984000000\n"
     ]
    }
   ],
   "source": [
    "from functools import reduce\n",
    "\n",
    "# List of numbers from 1 to 25\n",
    "numbers = list(range(1, 26))\n",
    "\n",
    "# Compute product using reduce\n",
    "product = reduce(lambda x, y: x * y, numbers)\n",
    "\n",
    "# Display the result\n",
    "print(product)\n"
   ]
  },
  {
   "cell_type": "code",
   "execution_count": null,
   "id": "9a1f1236-442a-4f73-aedd-3ac57d2c3702",
   "metadata": {},
   "outputs": [],
   "source": []
  },
  {
   "cell_type": "markdown",
   "id": "b66f8268-ede3-4068-b421-e10aa117e678",
   "metadata": {},
   "source": [
    "Q5. Write a python program to filter the numbers in a given list that are divisible by 2 and 3 using the filter function.\n"
   ]
  },
  {
   "cell_type": "markdown",
   "id": "bf7b7ad2-995d-4d72-802c-1a02286ef814",
   "metadata": {},
   "source": [
    "[2, 3, 6, 9, 27, 60, 90, 120, 55, 46]"
   ]
  },
  {
   "cell_type": "markdown",
   "id": "c6681b67-7879-4803-b6fa-6288b729cb49",
   "metadata": {},
   "source": [
    "Filter Numbers Divisible by 2 and 3 Using filter"
   ]
  },
  {
   "cell_type": "code",
   "execution_count": 31,
   "id": "a55b7a96-00e2-4c35-bd24-027fe268395c",
   "metadata": {},
   "outputs": [
    {
     "name": "stdout",
     "output_type": "stream",
     "text": [
      "[6, 60, 90, 120]\n"
     ]
    }
   ],
   "source": [
    "# Given list of numbers\n",
    "numbers = [2, 3, 6, 9, 27, 60, 90, 120, 55, 46]\n",
    "\n",
    "# Filter numbers divisible by 2 and 3\n",
    "filtered_numbers = list(filter(lambda x: x % 2 == 0 and x % 3 == 0, numbers))\n",
    "\n",
    "# Display the result\n",
    "print(filtered_numbers)\n"
   ]
  },
  {
   "cell_type": "code",
   "execution_count": null,
   "id": "d0a50363-006a-42dd-b202-2761992b3aed",
   "metadata": {},
   "outputs": [],
   "source": []
  },
  {
   "cell_type": "markdown",
   "id": "1be97adc-48d0-4f68-892e-5d6c54b8e02d",
   "metadata": {},
   "source": [
    "Q6. Write a python program to find palindromes in the given list of strings using lambda and filter function.\n"
   ]
  },
  {
   "cell_type": "markdown",
   "id": "794e8b25-2917-4564-9355-64cbc1b3e6b7",
   "metadata": {},
   "source": [
    "['python', 'php', 'aba', 'radar', 'level']"
   ]
  },
  {
   "cell_type": "markdown",
   "id": "c7c0b79a-b293-4150-8b25-a882cce9c254",
   "metadata": {},
   "source": [
    "Find Palindromes in the List Using lambda and filter"
   ]
  },
  {
   "cell_type": "code",
   "execution_count": 37,
   "id": "94310c10-0043-48de-9749-cc07676a54e2",
   "metadata": {},
   "outputs": [
    {
     "name": "stdout",
     "output_type": "stream",
     "text": [
      "['php', 'aba', 'radar', 'level']\n"
     ]
    }
   ],
   "source": [
    "# List of strings\n",
    "words = ['python', 'php', 'aba', 'radar', 'level']\n",
    "\n",
    "# Filter palindromes\n",
    "palindromes = list(filter(lambda x: x == x[::-1], words))\n",
    "\n",
    "# Display the result\n",
    "print(palindromes)\n"
   ]
  },
  {
   "cell_type": "code",
   "execution_count": null,
   "id": "0ea299fd-117f-4545-8be3-9916f6ea323c",
   "metadata": {},
   "outputs": [],
   "source": []
  },
  {
   "cell_type": "code",
   "execution_count": null,
   "id": "d9b32abb",
   "metadata": {},
   "outputs": [],
   "source": []
  }
 ],
 "metadata": {
  "kernelspec": {
   "display_name": "Python 3",
   "language": "python",
   "name": "python3"
  },
  "language_info": {
   "codemirror_mode": {
    "name": "ipython",
    "version": 3
   },
   "file_extension": ".py",
   "mimetype": "text/x-python",
   "name": "python",
   "nbconvert_exporter": "python",
   "pygments_lexer": "ipython3",
   "version": "3.12.3"
  }
 },
 "nbformat": 4,
 "nbformat_minor": 5
}
